{
 "cells": [
  {
   "cell_type": "code",
   "execution_count": 46,
   "metadata": {},
   "outputs": [],
   "source": [
    "import torch\n",
    "from torch import nn\n",
    "from torch.nn import functional as F\n",
    "from torchinfo import summary"
   ]
  },
  {
   "cell_type": "code",
   "execution_count": 52,
   "metadata": {},
   "outputs": [
    {
     "data": {
      "text/plain": [
       "==========================================================================================\n",
       "Layer (type:depth-idx)                   Output Shape              Param #\n",
       "==========================================================================================\n",
       "Sequential                               [1, 100, 39901]           --\n",
       "├─Conv1d: 1-1                            [1, 100, 39901]           1,000,100\n",
       "==========================================================================================\n",
       "Total params: 1,000,100\n",
       "Trainable params: 1,000,100\n",
       "Non-trainable params: 0\n",
       "Total mult-adds (G): 39.90\n",
       "==========================================================================================\n",
       "Input size (MB): 16.00\n",
       "Forward/backward pass size (MB): 31.92\n",
       "Params size (MB): 4.00\n",
       "Estimated Total Size (MB): 51.92\n",
       "=========================================================================================="
      ]
     },
     "execution_count": 52,
     "metadata": {},
     "output_type": "execute_result"
    }
   ],
   "source": [
    "batch_size = 1\n",
    "in_channels = 100\n",
    "out_channels = 100\n",
    "n_timesteps = 40000\n",
    "kernel_size = 100\n",
    "dilation_base = 1\n",
    "\n",
    "model = nn.Sequential(\n",
    "    nn.Conv1d(in_channels, out_channels, kernel_size,\n",
    "              stride=1,\n",
    "              padding=0,\n",
    "              dilation=dilation_base,\n",
    "              ),\n",
    ")\n",
    "\n",
    "X = torch.rand(batch_size, in_channels, n_timesteps)\n",
    "\n",
    "# zero-pad the input to the left\n",
    "X = F.pad(X, (kernel_size - 1, 0), value=0)\n",
    "\n",
    "summary(model, input_size=(batch_size, in_channels, n_timesteps))"
   ]
  }
 ],
 "metadata": {
  "kernelspec": {
   "display_name": "seq2conn",
   "language": "python",
   "name": "python3"
  },
  "language_info": {
   "codemirror_mode": {
    "name": "ipython",
    "version": 3
   },
   "file_extension": ".py",
   "mimetype": "text/x-python",
   "name": "python",
   "nbconvert_exporter": "python",
   "pygments_lexer": "ipython3",
   "version": "3.10.10"
  },
  "orig_nbformat": 4
 },
 "nbformat": 4,
 "nbformat_minor": 2
}
