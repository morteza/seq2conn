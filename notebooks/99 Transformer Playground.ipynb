{
 "cells": [
  {
   "cell_type": "code",
   "execution_count": 4,
   "metadata": {},
   "outputs": [],
   "source": [
    "import torch\n",
    "from torch import nn"
   ]
  },
  {
   "cell_type": "code",
   "execution_count": 34,
   "metadata": {},
   "outputs": [
    {
     "data": {
      "text/plain": [
       "torch.Size([5, 20, 961])"
      ]
     },
     "execution_count": 34,
     "metadata": {},
     "output_type": "execute_result"
    }
   ],
   "source": [
    "n_subjects = 5\n",
    "n_timepoints = 1024\n",
    "n_features = 10\n",
    "conv_kernel_size = 64\n",
    "output_dim = 128\n",
    "max_pool_kernel_size = int(n_timepoints / output_dim)\n",
    "\n",
    "\n",
    "X = torch.randn(n_subjects, n_features, n_timepoints)\n",
    "\n",
    "model = nn.Sequential(\n",
    "    nn.Conv1d(n_features, n_features * 2, conv_kernel_size),\n",
    "    # nn.MaxPool1d(max_pool_kernel_size),\n",
    ")\n",
    "\n",
    "model(X).shape"
   ]
  },
  {
   "cell_type": "code",
   "execution_count": 26,
   "metadata": {},
   "outputs": [
    {
     "ename": "TypeError",
     "evalue": "Transformer.generate_square_subsequent_mask() missing 1 required positional argument: 'sz'",
     "output_type": "error",
     "traceback": [
      "\u001b[0;31m---------------------------------------------------------------------------\u001b[0m",
      "\u001b[0;31mTypeError\u001b[0m                                 Traceback (most recent call last)",
      "Cell \u001b[0;32mIn[26], line 8\u001b[0m\n\u001b[1;32m      6\u001b[0m model(X, X)\n\u001b[1;32m      7\u001b[0m \u001b[39m# X.shape\u001b[39;00m\n\u001b[0;32m----> 8\u001b[0m model\u001b[39m.\u001b[39;49mgenerate_square_subsequent_mask()\n",
      "\u001b[0;31mTypeError\u001b[0m: Transformer.generate_square_subsequent_mask() missing 1 required positional argument: 'sz'"
     ]
    }
   ],
   "source": [
    "model = nn.Transformer(d_model=8, nhead=2)\n",
    "\n",
    "X = torch.Tensor([1,2,3,4,5,6,7,0]).repeat(10,1,1)\n",
    "y = torch.Tensor([2,3,4,5,6,7,8,9]).reshape(1,-1)\n",
    "\n",
    "model(X, X)\n",
    "# X.shape\n",
    "model.generate_square_subsequent_mask()"
   ]
  }
 ],
 "metadata": {
  "kernelspec": {
   "display_name": "seq2conn",
   "language": "python",
   "name": "python3"
  },
  "language_info": {
   "codemirror_mode": {
    "name": "ipython",
    "version": 3
   },
   "file_extension": ".py",
   "mimetype": "text/x-python",
   "name": "python",
   "nbconvert_exporter": "python",
   "pygments_lexer": "ipython3",
   "version": "3.10.9"
  },
  "orig_nbformat": 4,
  "vscode": {
   "interpreter": {
    "hash": "f1449728ff94e757cee90d34576cbf2e45ef41e97abd38ea59dc980197718c12"
   }
  }
 },
 "nbformat": 4,
 "nbformat_minor": 2
}
