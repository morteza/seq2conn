{
 "cells": [
  {
   "cell_type": "code",
   "execution_count": 1,
   "metadata": {},
   "outputs": [],
   "source": [
    "import torch\n",
    "from torch import nn\n",
    "import "
   ]
  },
  {
   "cell_type": "code",
   "execution_count": 26,
   "metadata": {},
   "outputs": [
    {
     "ename": "TypeError",
     "evalue": "Transformer.generate_square_subsequent_mask() missing 1 required positional argument: 'sz'",
     "output_type": "error",
     "traceback": [
      "\u001b[0;31m---------------------------------------------------------------------------\u001b[0m",
      "\u001b[0;31mTypeError\u001b[0m                                 Traceback (most recent call last)",
      "Cell \u001b[0;32mIn[26], line 8\u001b[0m\n\u001b[1;32m      6\u001b[0m model(X, X)\n\u001b[1;32m      7\u001b[0m \u001b[39m# X.shape\u001b[39;00m\n\u001b[0;32m----> 8\u001b[0m model\u001b[39m.\u001b[39;49mgenerate_square_subsequent_mask()\n",
      "\u001b[0;31mTypeError\u001b[0m: Transformer.generate_square_subsequent_mask() missing 1 required positional argument: 'sz'"
     ]
    }
   ],
   "source": [
    "model = nn.Transformer(d_model=8, nhead=2)\n",
    "\n",
    "X = torch.Tensor([1,2,3,4,5,6,7,0]).repeat(10,1,1)\n",
    "y = torch.Tensor([2,3,4,5,6,7,8,9]).reshape(1,-1)\n",
    "\n",
    "model(X, X)\n",
    "# X.shape\n",
    "model.generate_square_subsequent_mask()"
   ]
  }
 ],
 "metadata": {
  "kernelspec": {
   "display_name": "seq2conn",
   "language": "python",
   "name": "python3"
  },
  "language_info": {
   "codemirror_mode": {
    "name": "ipython",
    "version": 3
   },
   "file_extension": ".py",
   "mimetype": "text/x-python",
   "name": "python",
   "nbconvert_exporter": "python",
   "pygments_lexer": "ipython3",
   "version": "3.10.10"
  },
  "orig_nbformat": 4,
  "vscode": {
   "interpreter": {
    "hash": "f1449728ff94e757cee90d34576cbf2e45ef41e97abd38ea59dc980197718c12"
   }
  }
 },
 "nbformat": 4,
 "nbformat_minor": 2
}
