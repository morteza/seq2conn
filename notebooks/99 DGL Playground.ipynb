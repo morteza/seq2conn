{
 "cells": [
  {
   "cell_type": "code",
   "execution_count": 10,
   "metadata": {},
   "outputs": [
    {
     "name": "stdout",
     "output_type": "stream",
     "text": [
      "Using cuda...\n"
     ]
    }
   ],
   "source": [
    "import torch\n",
    "from torch import nn\n",
    "\n",
    "device = torch.device('cuda' if torch.cuda.is_available() else 'cpu')\n",
    "\n",
    "print(f'Using {device}...')"
   ]
  },
  {
   "cell_type": "code",
   "execution_count": 38,
   "metadata": {},
   "outputs": [
    {
     "data": {
      "text/plain": [
       "(torch.Size([5, 100, 20]), torch.Size([2, 5, 20]), torch.Size([2, 2, 10]))"
      ]
     },
     "execution_count": 38,
     "metadata": {},
     "output_type": "execute_result"
    }
   ],
   "source": [
    "batch_size = 5\n",
    "n_timesteps = 100\n",
    "input_dim = 10\n",
    "embedding_dim = 20\n",
    "n_layers = 2\n",
    "input = torch.randn(batch_size, n_timesteps, input_dim)\n",
    "\n",
    "encoder = nn.Sequential(\n",
    "    nn.LSTM(input_dim, embedding_dim, n_layers, batch_first=True),\n",
    ")\n",
    "\n",
    "decoder = nn.Sequential(\n",
    "    nn.LSTM(embedding_dim, input_dim, n_layers, batch_first=True),\n",
    ")\n",
    "\n",
    "embedding, (h1, cell) = encoder(input)\n",
    "\n",
    "output, (h2, cell) = decoder(h1.)\n",
    "\n",
    "embedding.shape, h1.shape, h2.shape"
   ]
  }
 ],
 "metadata": {
  "kernelspec": {
   "display_name": "seq2graph",
   "language": "python",
   "name": "python3"
  },
  "language_info": {
   "codemirror_mode": {
    "name": "ipython",
    "version": 3
   },
   "file_extension": ".py",
   "mimetype": "text/x-python",
   "name": "python",
   "nbconvert_exporter": "python",
   "pygments_lexer": "ipython3",
   "version": "3.10.9"
  },
  "orig_nbformat": 4
 },
 "nbformat": 4,
 "nbformat_minor": 2
}
