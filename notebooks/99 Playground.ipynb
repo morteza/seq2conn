{
 "cells": [
  {
   "cell_type": "code",
   "execution_count": 1,
   "metadata": {},
   "outputs": [
    {
     "name": "stdout",
     "output_type": "stream",
     "text": [
      "Using cuda...\n"
     ]
    }
   ],
   "source": [
    "%reload_ext autoreload\n",
    "%autoreload 3\n",
    "\n",
    "import torch\n",
    "from torch import nn\n",
    "\n",
    "device = torch.device('cuda' if torch.cuda.is_available() else 'cpu')\n",
    "\n",
    "print(f'Using {device}...')"
   ]
  },
  {
   "cell_type": "code",
   "execution_count": 2,
   "metadata": {},
   "outputs": [
    {
     "name": "stdout",
     "output_type": "stream",
     "text": [
      "1.13.1.post200\n"
     ]
    }
   ],
   "source": [
    "print(torch.__version__)\n"
   ]
  },
  {
   "cell_type": "code",
   "execution_count": 3,
   "metadata": {},
   "outputs": [
    {
     "data": {
      "text/plain": [
       "(torch.Size([5, 10, 15]),\n",
       " torch.Size([5, 10, 20]),\n",
       " torch.Size([5, 10, 20]),\n",
       " torch.Size([5, 10, 15]),\n",
       " torch.Size([5, 10, 15]))"
      ]
     },
     "execution_count": 3,
     "metadata": {},
     "output_type": "execute_result"
    }
   ],
   "source": [
    "batch_size = 5\n",
    "n_timesteps = 10\n",
    "input_dim = 15\n",
    "hidden_dim = 20\n",
    "n_layers = n_timesteps\n",
    "\n",
    "input = torch.randn(batch_size, n_timesteps, input_dim)\n",
    "\n",
    "encoder = nn.LSTM(input_dim, hidden_dim, n_layers, batch_first=True)\n",
    "\n",
    "decoder = nn.LSTM(hidden_dim, input_dim, n_layers, batch_first=True)\n",
    "\n",
    "out_enc, (h_enc, cell) = encoder(input)\n",
    "h_enc = h_enc.permute(1, 0, 2)\n",
    "out_dec, (h_dec, cell) = decoder(h_enc)\n",
    "h_dec = h_dec.permute(1, 0, 2)\n",
    "\n",
    "input.shape, h_enc.shape, out_enc.shape, h_dec.shape, out_dec.shape\n",
    "\n",
    "# input.shape: (batch_size, n_timesteps, input_dim)\n",
    "# h1.shape: (batch_size, n_layers, hidden_dim)\n",
    "# out1.shape: (batch_size, n_timesteps, hidden_dim)\n",
    "# h2.shape: (batch_size, n_layers, input_dim)\n",
    "# out2.shape: (batch_size, n_timesteps, input_dim)\n"
   ]
  },
  {
   "cell_type": "code",
   "execution_count": 5,
   "metadata": {},
   "outputs": [
    {
     "data": {
      "text/plain": [
       "SimpleVAE(\n",
       "  (encoder): Encoder(\n",
       "    (encoder): LSTM(15, 20, num_layers=10, batch_first=True)\n",
       "  )\n",
       "  (decoder): Decoder(\n",
       "    (decoder): LSTM(20, 15, num_layers=10, batch_first=True)\n",
       "    (fc): Linear(in_features=15, out_features=15, bias=True)\n",
       "  )\n",
       ")"
      ]
     },
     "execution_count": 5,
     "metadata": {},
     "output_type": "execute_result"
    }
   ],
   "source": [
    "from src.seq2conn.simple_vae import SimpleVAE\n",
    "\n",
    "model = SimpleVAE(input_dim, hidden_dim, n_layers)\n",
    "model"
   ]
  }
 ],
 "metadata": {
  "kernelspec": {
   "display_name": "seq2graph",
   "language": "python",
   "name": "python3"
  },
  "language_info": {
   "codemirror_mode": {
    "name": "ipython",
    "version": 3
   },
   "file_extension": ".py",
   "mimetype": "text/x-python",
   "name": "python",
   "nbconvert_exporter": "python",
   "pygments_lexer": "ipython3",
   "version": "3.10.9"
  },
  "orig_nbformat": 4
 },
 "nbformat": 4,
 "nbformat_minor": 2
}
