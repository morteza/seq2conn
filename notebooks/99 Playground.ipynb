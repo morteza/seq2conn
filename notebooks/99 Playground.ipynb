{
 "cells": [
  {
   "cell_type": "code",
   "execution_count": 9,
   "metadata": {},
   "outputs": [
    {
     "name": "stderr",
     "output_type": "stream",
     "text": [
      "[autoreload of src.seq2conn.models.dgmg failed: Traceback (most recent call last):\n",
      "  File \"/home/morteza/micromamba/envs/seq2conn/lib/python3.10/site-packages/IPython/extensions/autoreload.py\", line 271, in check\n",
      "    superreload(m, reload, self.old_objects, self.shell)\n",
      "  File \"/home/morteza/micromamba/envs/seq2conn/lib/python3.10/site-packages/IPython/extensions/autoreload.py\", line 496, in superreload\n",
      "    update_generic(old_obj, new_obj)\n",
      "  File \"/home/morteza/micromamba/envs/seq2conn/lib/python3.10/site-packages/IPython/extensions/autoreload.py\", line 393, in update_generic\n",
      "    update(a, b)\n",
      "  File \"/home/morteza/micromamba/envs/seq2conn/lib/python3.10/site-packages/IPython/extensions/autoreload.py\", line 361, in update_class\n",
      "    update_instances(old, new)\n",
      "  File \"/home/morteza/micromamba/envs/seq2conn/lib/python3.10/site-packages/IPython/extensions/autoreload.py\", line 319, in update_instances\n",
      "    object.__setattr__(ref, \"__class__\", new)\n",
      "TypeError: __class__ assignment only supported for mutable types or ModuleType subclasses\n",
      "]\n",
      "[autoreload of src.seq2conn.models.dgmg failed: Traceback (most recent call last):\n",
      "  File \"/home/morteza/micromamba/envs/seq2conn/lib/python3.10/site-packages/IPython/extensions/autoreload.py\", line 271, in check\n",
      "    superreload(m, reload, self.old_objects, self.shell)\n",
      "  File \"/home/morteza/micromamba/envs/seq2conn/lib/python3.10/site-packages/IPython/extensions/autoreload.py\", line 496, in superreload\n",
      "    update_generic(old_obj, new_obj)\n",
      "  File \"/home/morteza/micromamba/envs/seq2conn/lib/python3.10/site-packages/IPython/extensions/autoreload.py\", line 393, in update_generic\n",
      "    update(a, b)\n",
      "  File \"/home/morteza/micromamba/envs/seq2conn/lib/python3.10/site-packages/IPython/extensions/autoreload.py\", line 361, in update_class\n",
      "    update_instances(old, new)\n",
      "  File \"/home/morteza/micromamba/envs/seq2conn/lib/python3.10/site-packages/IPython/extensions/autoreload.py\", line 319, in update_instances\n",
      "    object.__setattr__(ref, \"__class__\", new)\n",
      "TypeError: __class__ assignment only supported for mutable types or ModuleType subclasses\n",
      "]\n",
      "[autoreload of src.seq2conn.models.dgmg failed: Traceback (most recent call last):\n",
      "  File \"/home/morteza/micromamba/envs/seq2conn/lib/python3.10/site-packages/IPython/extensions/autoreload.py\", line 271, in check\n",
      "    superreload(m, reload, self.old_objects, self.shell)\n",
      "  File \"/home/morteza/micromamba/envs/seq2conn/lib/python3.10/site-packages/IPython/extensions/autoreload.py\", line 496, in superreload\n",
      "    update_generic(old_obj, new_obj)\n",
      "  File \"/home/morteza/micromamba/envs/seq2conn/lib/python3.10/site-packages/IPython/extensions/autoreload.py\", line 393, in update_generic\n",
      "    update(a, b)\n",
      "  File \"/home/morteza/micromamba/envs/seq2conn/lib/python3.10/site-packages/IPython/extensions/autoreload.py\", line 361, in update_class\n",
      "    update_instances(old, new)\n",
      "  File \"/home/morteza/micromamba/envs/seq2conn/lib/python3.10/site-packages/IPython/extensions/autoreload.py\", line 319, in update_instances\n",
      "    object.__setattr__(ref, \"__class__\", new)\n",
      "TypeError: __class__ assignment only supported for mutable types or ModuleType subclasses\n",
      "]\n",
      "[autoreload of src.seq2conn.models.dgmg failed: Traceback (most recent call last):\n",
      "  File \"/home/morteza/micromamba/envs/seq2conn/lib/python3.10/site-packages/IPython/extensions/autoreload.py\", line 271, in check\n",
      "    superreload(m, reload, self.old_objects, self.shell)\n",
      "  File \"/home/morteza/micromamba/envs/seq2conn/lib/python3.10/site-packages/IPython/extensions/autoreload.py\", line 496, in superreload\n",
      "    update_generic(old_obj, new_obj)\n",
      "  File \"/home/morteza/micromamba/envs/seq2conn/lib/python3.10/site-packages/IPython/extensions/autoreload.py\", line 393, in update_generic\n",
      "    update(a, b)\n",
      "  File \"/home/morteza/micromamba/envs/seq2conn/lib/python3.10/site-packages/IPython/extensions/autoreload.py\", line 361, in update_class\n",
      "    update_instances(old, new)\n",
      "  File \"/home/morteza/micromamba/envs/seq2conn/lib/python3.10/site-packages/IPython/extensions/autoreload.py\", line 319, in update_instances\n",
      "    object.__setattr__(ref, \"__class__\", new)\n",
      "TypeError: __class__ assignment only supported for mutable types or ModuleType subclasses\n",
      "]\n"
     ]
    }
   ],
   "source": [
    "%reload_ext autoreload\n",
    "%autoreload 3\n",
    "\n",
    "import torch\n",
    "from torch import nn\n",
    "import pytorch_lightning as pl\n",
    "from src.seq2conn.simple_vae import SimpleVAE\n",
    "from src.seq2conn.data import RandomDataModule\n",
    "from src.seq2conn.models.dgmg import DGMG"
   ]
  },
  {
   "cell_type": "code",
   "execution_count": 10,
   "metadata": {},
   "outputs": [
    {
     "name": "stdout",
     "output_type": "stream",
     "text": [
      "Using cuda...\n"
     ]
    }
   ],
   "source": [
    "device = torch.device('cuda' if torch.cuda.is_available() else 'cpu')\n",
    "\n",
    "print(f'Using {device}...')"
   ]
  },
  {
   "cell_type": "code",
   "execution_count": 11,
   "metadata": {},
   "outputs": [
    {
     "data": {
      "text/plain": [
       "DGMG(\n",
       "  (graph_embed): GraphEmbed(\n",
       "    (node_gating): Sequential(\n",
       "      (0): Linear(in_features=10, out_features=1, bias=True)\n",
       "      (1): Sigmoid()\n",
       "    )\n",
       "    (node_to_graph): Linear(in_features=10, out_features=20, bias=True)\n",
       "  )\n",
       "  (graph_prop): GraphProp(\n",
       "    (message_funcs): ModuleList(\n",
       "      (0-4): 5 x Linear(in_features=21, out_features=20, bias=True)\n",
       "    )\n",
       "    (node_update_funcs): ModuleList(\n",
       "      (0-4): 5 x GRUCell(20, 10)\n",
       "    )\n",
       "  )\n",
       "  (add_node_agent): AddNode(\n",
       "    (add_node): Linear(in_features=20, out_features=1, bias=True)\n",
       "    (node_type_embed): Embedding(1, 10)\n",
       "    (initialize_hv): Linear(in_features=30, out_features=10, bias=True)\n",
       "  )\n",
       "  (add_edge_agent): AddEdge(\n",
       "    (add_edge): Linear(in_features=30, out_features=1, bias=True)\n",
       "  )\n",
       "  (choose_dest_agent): ChooseDestAndUpdate(\n",
       "    (choose_dest): Linear(in_features=20, out_features=1, bias=True)\n",
       "  )\n",
       ")"
      ]
     },
     "execution_count": 11,
     "metadata": {},
     "output_type": "execute_result"
    }
   ],
   "source": [
    "DGMG(.2, 10, 5)"
   ]
  },
  {
   "cell_type": "code",
   "execution_count": 3,
   "metadata": {},
   "outputs": [
    {
     "data": {
      "text/plain": [
       "(torch.Size([5, 10, 15]),\n",
       " torch.Size([5, 10, 20]),\n",
       " torch.Size([5, 10, 20]),\n",
       " torch.Size([5, 10, 15]),\n",
       " torch.Size([5, 10, 15]))"
      ]
     },
     "execution_count": 3,
     "metadata": {},
     "output_type": "execute_result"
    }
   ],
   "source": [
    "batch_size = 5\n",
    "n_timesteps = 10\n",
    "input_dim = 15\n",
    "hidden_dim = 20\n",
    "n_layers = n_timesteps\n",
    "\n",
    "input = torch.randn(batch_size, n_timesteps, input_dim)\n",
    "\n",
    "encoder = nn.LSTM(input_dim, hidden_dim, n_layers, batch_first=True)\n",
    "\n",
    "decoder = nn.LSTM(hidden_dim, input_dim, n_layers, batch_first=True)\n",
    "\n",
    "out_enc, (h_enc, cell) = encoder(input)\n",
    "h_enc = h_enc.permute(1, 0, 2)\n",
    "out_dec, (h_dec, cell) = decoder(h_enc)\n",
    "h_dec = h_dec.permute(1, 0, 2)\n",
    "\n",
    "input.shape, h_enc.shape, out_enc.shape, h_dec.shape, out_dec.shape\n",
    "\n",
    "# input.shape: (batch_size, n_timesteps, input_dim)\n",
    "# h1.shape: (batch_size, n_layers, hidden_dim)\n",
    "# out1.shape: (batch_size, n_timesteps, hidden_dim)\n",
    "# h2.shape: (batch_size, n_layers, input_dim)\n",
    "# out2.shape: (batch_size, n_timesteps, input_dim)\n"
   ]
  },
  {
   "cell_type": "code",
   "execution_count": null,
   "metadata": {},
   "outputs": [],
   "source": [
    "datamodule = RandomDataModule(batch_size=batch_size, n_timesteps=n_timesteps, input_dim=input_dim)\n",
    "model = SimpleVAE(input_dim, hidden_dim, n_layers)\n",
    "\n",
    "trainer = pl.Trainer(max_epochs=100, log_every_n_steps=1)\n",
    "\n",
    "trainer.fit(model, datamodule=datamodule)"
   ]
  }
 ],
 "metadata": {
  "kernelspec": {
   "display_name": "seq2graph",
   "language": "python",
   "name": "python3"
  },
  "language_info": {
   "codemirror_mode": {
    "name": "ipython",
    "version": 3
   },
   "file_extension": ".py",
   "mimetype": "text/x-python",
   "name": "python",
   "nbconvert_exporter": "python",
   "pygments_lexer": "ipython3",
   "version": "3.10.9"
  },
  "orig_nbformat": 4
 },
 "nbformat": 4,
 "nbformat_minor": 2
}
