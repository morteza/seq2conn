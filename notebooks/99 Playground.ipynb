{
 "cells": [
  {
   "cell_type": "code",
   "execution_count": 5,
   "metadata": {},
   "outputs": [],
   "source": [
    "%reload_ext autoreload\n",
    "%autoreload 3\n",
    "\n",
    "import torch\n",
    "from torch import nn\n",
    "import pytorch_lightning as pl\n",
    "from src.seq2conn.models.simple_vae import SimpleVAE\n",
    "from src.seq2conn.data import RandomDataModule\n",
    "from src.seq2conn.models.dgmg import DGMG"
   ]
  },
  {
   "cell_type": "code",
   "execution_count": 6,
   "metadata": {},
   "outputs": [
    {
     "data": {
      "text/plain": [
       "DGMG(\n",
       "  (graph_embed): GraphEmbed(\n",
       "    (node_gating): Sequential(\n",
       "      (0): Linear(in_features=10, out_features=1, bias=True)\n",
       "      (1): Sigmoid()\n",
       "    )\n",
       "    (node_to_graph): Linear(in_features=10, out_features=20, bias=True)\n",
       "  )\n",
       "  (graph_prop): GraphProp(\n",
       "    (message_funcs): ModuleList(\n",
       "      (0-4): 5 x Linear(in_features=21, out_features=20, bias=True)\n",
       "    )\n",
       "    (node_update_funcs): ModuleList(\n",
       "      (0-4): 5 x GRUCell(20, 10)\n",
       "    )\n",
       "  )\n",
       "  (add_node_agent): AddNode(\n",
       "    (add_node): Linear(in_features=20, out_features=1, bias=True)\n",
       "    (node_type_embed): Embedding(1, 10)\n",
       "    (initialize_hv): Linear(in_features=30, out_features=10, bias=True)\n",
       "  )\n",
       "  (add_edge_agent): AddEdge(\n",
       "    (add_edge): Linear(in_features=30, out_features=1, bias=True)\n",
       "  )\n",
       "  (choose_dest_agent): ChooseDestAndUpdate(\n",
       "    (choose_dest): Linear(in_features=20, out_features=1, bias=True)\n",
       "  )\n",
       ")"
      ]
     },
     "execution_count": 6,
     "metadata": {},
     "output_type": "execute_result"
    }
   ],
   "source": [
    "DGMG(.2, 10, 5)"
   ]
  },
  {
   "cell_type": "code",
   "execution_count": null,
   "metadata": {},
   "outputs": [],
   "source": [
    "datamodule = RandomDataModule(batch_size=16, n_timesteps=127, input_dim=18)\n",
    "\n",
    "\n",
    "model = SimpleVAE(18, 12, 2)\n",
    "\n",
    "trainer = pl.Trainer(max_epochs=100, log_every_n_steps=1)\n",
    "\n",
    "trainer.fit(model, datamodule=datamodule)"
   ]
  }
 ],
 "metadata": {
  "kernelspec": {
   "display_name": "seq2graph",
   "language": "python",
   "name": "python3"
  },
  "language_info": {
   "codemirror_mode": {
    "name": "ipython",
    "version": 3
   },
   "file_extension": ".py",
   "mimetype": "text/x-python",
   "name": "python",
   "nbconvert_exporter": "python",
   "pygments_lexer": "ipython3",
   "version": "3.10.9"
  },
  "orig_nbformat": 4
 },
 "nbformat": 4,
 "nbformat_minor": 2
}
