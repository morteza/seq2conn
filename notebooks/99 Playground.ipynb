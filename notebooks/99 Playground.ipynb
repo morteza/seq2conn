{
 "cells": [
  {
   "cell_type": "code",
   "execution_count": 7,
   "metadata": {},
   "outputs": [],
   "source": [
    "%reload_ext autoreload\n",
    "%autoreload 3\n",
    "\n",
    "import torch\n",
    "from torch import nn\n",
    "import pytorch_lightning as pl\n",
    "from src.seq2conn.models.simple_vae import SimpleVAE\n",
    "from src.seq2conn.data import RandomDataModule"
   ]
  },
  {
   "cell_type": "code",
   "execution_count": 60,
   "metadata": {},
   "outputs": [
    {
     "data": {
      "text/plain": [
       "tensor([[-0.0449,  0.1395],\n",
       "        [ 0.1222,  0.2979],\n",
       "        [-0.0469,  0.2163],\n",
       "        [-0.3334,  0.0234],\n",
       "        [ 0.0390,  0.2682],\n",
       "        [-0.1422,  0.1225],\n",
       "        [-0.1796,  0.0983],\n",
       "        [-0.1374,  0.1786],\n",
       "        [-0.0988,  0.1258],\n",
       "        [-0.2973,  0.0010],\n",
       "        [-0.2512, -0.0082]], grad_fn=<AddBackward0>)"
      ]
     },
     "execution_count": 60,
     "metadata": {},
     "output_type": "execute_result"
    }
   ],
   "source": [
    "\n",
    "from torch_geometric.utils import to_edge_index\n",
    "from torch_geometric.nn import GCNConv\n",
    "\n",
    "n_nodes = 11\n",
    "node_features_dim = 12\n",
    "node_embedding_1_dim = 3\n",
    "node_embedding_2_dim = 2\n",
    "\n",
    "adj = torch.randint(0,2, (n_nodes, n_nodes)).to_sparse()\n",
    "node_features = torch.randn(n_nodes, node_features_dim)\n",
    "edge_index = to_edge_index(adj)[0]\n",
    "\n",
    "layer_1 = GCNConv(node_features_dim, node_embedding_1_dim)\n",
    "layer_2 = GCNConv(node_embedding_1_dim, node_embedding_2_dim)\n",
    "\n",
    "embedding_1 = layer_1(node_features, edge_index)\n",
    "embedding_2 = layer_2(embedding_1, edge_index)\n",
    "embedding_2"
   ]
  },
  {
   "cell_type": "code",
   "execution_count": 6,
   "metadata": {},
   "outputs": [
    {
     "data": {
      "text/plain": [
       "DGMG(\n",
       "  (graph_embed): GraphEmbed(\n",
       "    (node_gating): Sequential(\n",
       "      (0): Linear(in_features=10, out_features=1, bias=True)\n",
       "      (1): Sigmoid()\n",
       "    )\n",
       "    (node_to_graph): Linear(in_features=10, out_features=20, bias=True)\n",
       "  )\n",
       "  (graph_prop): GraphProp(\n",
       "    (message_funcs): ModuleList(\n",
       "      (0-4): 5 x Linear(in_features=21, out_features=20, bias=True)\n",
       "    )\n",
       "    (node_update_funcs): ModuleList(\n",
       "      (0-4): 5 x GRUCell(20, 10)\n",
       "    )\n",
       "  )\n",
       "  (add_node_agent): AddNode(\n",
       "    (add_node): Linear(in_features=20, out_features=1, bias=True)\n",
       "    (node_type_embed): Embedding(1, 10)\n",
       "    (initialize_hv): Linear(in_features=30, out_features=10, bias=True)\n",
       "  )\n",
       "  (add_edge_agent): AddEdge(\n",
       "    (add_edge): Linear(in_features=30, out_features=1, bias=True)\n",
       "  )\n",
       "  (choose_dest_agent): ChooseDestAndUpdate(\n",
       "    (choose_dest): Linear(in_features=20, out_features=1, bias=True)\n",
       "  )\n",
       ")"
      ]
     },
     "execution_count": 6,
     "metadata": {},
     "output_type": "execute_result"
    }
   ],
   "source": [
    "DGMG(.2, 10, 5)"
   ]
  },
  {
   "cell_type": "code",
   "execution_count": null,
   "metadata": {},
   "outputs": [],
   "source": [
    "datamodule = RandomDataModule(batch_size=16, n_timesteps=127, input_dim=18)\n",
    "\n",
    "\n",
    "model = SimpleVAE(18, 12, 2)\n",
    "\n",
    "trainer = pl.Trainer(max_epochs=100, log_every_n_steps=1)\n",
    "\n",
    "trainer.fit(model, datamodule=datamodule)"
   ]
  }
 ],
 "metadata": {
  "kernelspec": {
   "display_name": "seq2graph",
   "language": "python",
   "name": "python3"
  },
  "language_info": {
   "codemirror_mode": {
    "name": "ipython",
    "version": 3
   },
   "file_extension": ".py",
   "mimetype": "text/x-python",
   "name": "python",
   "nbconvert_exporter": "python",
   "pygments_lexer": "ipython3",
   "version": "3.10.10"
  },
  "orig_nbformat": 4
 },
 "nbformat": 4,
 "nbformat_minor": 2
}
